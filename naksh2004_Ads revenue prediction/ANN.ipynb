{
 "cells": [
  {
   "cell_type": "code",
   "execution_count": 6,
   "metadata": {},
   "outputs": [],
   "source": [
    "from sklearn.metrics import accuracy_score\n",
    "from sklearn.model_selection import train_test_split\n",
    "from sklearn.tree import DecisionTreeClassifier\n",
    "from sklearn.ensemble import RandomForestClassifier,AdaBoostClassifier,GradientBoostingClassifier\n",
    "import pandas as pd\n",
    "import keras \n",
    "from keras.models import Sequential\n",
    "from keras.layers import Dense\n",
    "import numpy as np\n",
    "import matplotlib.pyplot as plt\n",
    "from sklearn.preprocessing import StandardScaler\n",
    "import sklearn\n",
    "from sklearn.metrics import classification_report\n",
    "import rasterio\n",
    "from rasterio import plot\n",
    "from sklearn import preprocessing\n",
    "from matplotlib.pyplot import figure\n",
    "import rasterio\n",
    "from rasterio import plot\n",
    "import itertools\n"
   ]
  },
  {
   "cell_type": "code",
   "execution_count": 7,
   "metadata": {},
   "outputs": [
    {
     "data": {
      "text/html": [
       "<div>\n",
       "<style scoped>\n",
       "    .dataframe tbody tr th:only-of-type {\n",
       "        vertical-align: middle;\n",
       "    }\n",
       "\n",
       "    .dataframe tbody tr th {\n",
       "        vertical-align: top;\n",
       "    }\n",
       "\n",
       "    .dataframe thead th {\n",
       "        text-align: right;\n",
       "    }\n",
       "</style>\n",
       "<table border=\"1\" class=\"dataframe\">\n",
       "  <thead>\n",
       "    <tr style=\"text-align: right;\">\n",
       "      <th></th>\n",
       "      <th>Unnamed: 0</th>\n",
       "      <th>id</th>\n",
       "      <th>realtionship_status</th>\n",
       "      <th>industry</th>\n",
       "      <th>genre</th>\n",
       "      <th>targeted_sex</th>\n",
       "      <th>average_runtime(minutes_per_week)</th>\n",
       "      <th>airtime</th>\n",
       "      <th>airlocation</th>\n",
       "      <th>ratings</th>\n",
       "      <th>expensive</th>\n",
       "      <th>money_back_guarantee</th>\n",
       "      <th>netgain</th>\n",
       "    </tr>\n",
       "  </thead>\n",
       "  <tbody>\n",
       "    <tr>\n",
       "      <th>0</th>\n",
       "      <td>0</td>\n",
       "      <td>19717</td>\n",
       "      <td>4</td>\n",
       "      <td>1</td>\n",
       "      <td>1</td>\n",
       "      <td>1</td>\n",
       "      <td>45</td>\n",
       "      <td>3</td>\n",
       "      <td>40</td>\n",
       "      <td>0.027465</td>\n",
       "      <td>1</td>\n",
       "      <td>0</td>\n",
       "      <td>0</td>\n",
       "    </tr>\n",
       "    <tr>\n",
       "      <th>1</th>\n",
       "      <td>1</td>\n",
       "      <td>31593</td>\n",
       "      <td>3</td>\n",
       "      <td>5</td>\n",
       "      <td>1</td>\n",
       "      <td>1</td>\n",
       "      <td>45</td>\n",
       "      <td>3</td>\n",
       "      <td>40</td>\n",
       "      <td>0.027465</td>\n",
       "      <td>2</td>\n",
       "      <td>0</td>\n",
       "      <td>0</td>\n",
       "    </tr>\n",
       "    <tr>\n",
       "      <th>2</th>\n",
       "      <td>2</td>\n",
       "      <td>5681</td>\n",
       "      <td>1</td>\n",
       "      <td>3</td>\n",
       "      <td>1</td>\n",
       "      <td>2</td>\n",
       "      <td>45</td>\n",
       "      <td>3</td>\n",
       "      <td>40</td>\n",
       "      <td>0.027465</td>\n",
       "      <td>1</td>\n",
       "      <td>1</td>\n",
       "      <td>0</td>\n",
       "    </tr>\n",
       "    <tr>\n",
       "      <th>3</th>\n",
       "      <td>3</td>\n",
       "      <td>15491</td>\n",
       "      <td>0</td>\n",
       "      <td>6</td>\n",
       "      <td>5</td>\n",
       "      <td>2</td>\n",
       "      <td>40</td>\n",
       "      <td>3</td>\n",
       "      <td>40</td>\n",
       "      <td>0.027465</td>\n",
       "      <td>2</td>\n",
       "      <td>0</td>\n",
       "      <td>0</td>\n",
       "    </tr>\n",
       "    <tr>\n",
       "      <th>4</th>\n",
       "      <td>4</td>\n",
       "      <td>23587</td>\n",
       "      <td>3</td>\n",
       "      <td>5</td>\n",
       "      <td>1</td>\n",
       "      <td>1</td>\n",
       "      <td>48</td>\n",
       "      <td>3</td>\n",
       "      <td>40</td>\n",
       "      <td>0.027465</td>\n",
       "      <td>1</td>\n",
       "      <td>0</td>\n",
       "      <td>1</td>\n",
       "    </tr>\n",
       "  </tbody>\n",
       "</table>\n",
       "</div>"
      ],
      "text/plain": [
       "   Unnamed: 0     id  realtionship_status  industry  genre  targeted_sex  \\\n",
       "0           0  19717                    4         1      1             1   \n",
       "1           1  31593                    3         5      1             1   \n",
       "2           2   5681                    1         3      1             2   \n",
       "3           3  15491                    0         6      5             2   \n",
       "4           4  23587                    3         5      1             1   \n",
       "\n",
       "   average_runtime(minutes_per_week)  airtime  airlocation   ratings  \\\n",
       "0                                 45        3           40  0.027465   \n",
       "1                                 45        3           40  0.027465   \n",
       "2                                 45        3           40  0.027465   \n",
       "3                                 40        3           40  0.027465   \n",
       "4                                 48        3           40  0.027465   \n",
       "\n",
       "   expensive  money_back_guarantee  netgain  \n",
       "0          1                     0        0  \n",
       "1          2                     0        0  \n",
       "2          1                     1        0  \n",
       "3          2                     0        0  \n",
       "4          1                     0        1  "
      ]
     },
     "execution_count": 7,
     "metadata": {},
     "output_type": "execute_result"
    }
   ],
   "source": [
    "df=pd.read_csv(\"new_data1.csv\")\n",
    "df.head()"
   ]
  },
  {
   "cell_type": "code",
   "execution_count": 8,
   "metadata": {},
   "outputs": [
    {
     "name": "stdout",
     "output_type": "stream",
     "text": [
      "<class 'pandas.core.frame.DataFrame'>\n",
      "RangeIndex: 26048 entries, 0 to 26047\n",
      "Data columns (total 13 columns):\n",
      "Unnamed: 0                           26048 non-null int64\n",
      "id                                   26048 non-null int64\n",
      "realtionship_status                  26048 non-null int64\n",
      "industry                             26048 non-null int64\n",
      "genre                                26048 non-null int64\n",
      "targeted_sex                         26048 non-null int64\n",
      "average_runtime(minutes_per_week)    26048 non-null int64\n",
      "airtime                              26048 non-null int64\n",
      "airlocation                          26048 non-null int64\n",
      "ratings                              26048 non-null float64\n",
      "expensive                            26048 non-null int64\n",
      "money_back_guarantee                 26048 non-null int64\n",
      "netgain                              26048 non-null int64\n",
      "dtypes: float64(1), int64(12)\n",
      "memory usage: 2.6 MB\n"
     ]
    }
   ],
   "source": [
    "df.info()"
   ]
  },
  {
   "cell_type": "code",
   "execution_count": 10,
   "metadata": {},
   "outputs": [],
   "source": [
    "X=df[['realtionship_status', 'industry', 'genre', 'targeted_sex',\n",
    "       'average_runtime(minutes_per_week)', 'airtime', 'airlocation',\n",
    "       'ratings', 'expensive', 'money_back_guarantee']]\n",
    "y=df[\"netgain\"]"
   ]
  },
  {
   "cell_type": "code",
   "execution_count": 11,
   "metadata": {},
   "outputs": [
    {
     "name": "stderr",
     "output_type": "stream",
     "text": [
      "C:\\Users\\gaikw\\Anaconda3\\lib\\site-packages\\sklearn\\preprocessing\\data.py:645: DataConversionWarning: Data with input dtype int64, float64 were all converted to float64 by StandardScaler.\n",
      "  return self.partial_fit(X, y)\n",
      "C:\\Users\\gaikw\\Anaconda3\\lib\\site-packages\\sklearn\\base.py:464: DataConversionWarning: Data with input dtype int64, float64 were all converted to float64 by StandardScaler.\n",
      "  return self.fit(X, **fit_params).transform(X)\n",
      "C:\\Users\\gaikw\\Anaconda3\\lib\\site-packages\\ipykernel_launcher.py:11: DataConversionWarning: Data with input dtype int64, float64 were all converted to float64 by StandardScaler.\n",
      "  # This is added back by InteractiveShellApp.init_path()\n"
     ]
    }
   ],
   "source": [
    "\n",
    "\n",
    "xTrain, xTest, yTrain, yTest = train_test_split(X, y, test_size=0.2, random_state=42)\n",
    "\n",
    "# print(xTrain.shape)\n",
    "# print(yTrain.shape)\n",
    "\n",
    "# print(xTest.shape)\n",
    "# print(yTest.shape)\n",
    "\n",
    "sc=StandardScaler()\n",
    "X_train=sc.fit_transform(xTrain)\n",
    "X_test=sc.transform(xTest)\n",
    "# print(X_train)\n",
    "# print(X_test)"
   ]
  },
  {
   "cell_type": "code",
   "execution_count": 15,
   "metadata": {},
   "outputs": [
    {
     "name": "stderr",
     "output_type": "stream",
     "text": [
      "C:\\Users\\gaikw\\Anaconda3\\lib\\site-packages\\ipykernel_launcher.py:2: UserWarning: Update your `Dense` call to the Keras 2 API: `Dense(activation=\"tanh\", input_dim=10, units=32, kernel_initializer=\"uniform\")`\n",
      "  \n",
      "C:\\Users\\gaikw\\Anaconda3\\lib\\site-packages\\ipykernel_launcher.py:3: UserWarning: Update your `Dense` call to the Keras 2 API: `Dense(activation=\"tanh\", units=64, kernel_initializer=\"uniform\")`\n",
      "  This is separate from the ipykernel package so we can avoid doing imports until\n",
      "C:\\Users\\gaikw\\Anaconda3\\lib\\site-packages\\ipykernel_launcher.py:4: UserWarning: Update your `Dense` call to the Keras 2 API: `Dense(activation=\"tanh\", units=64, kernel_initializer=\"uniform\")`\n",
      "  after removing the cwd from sys.path.\n",
      "C:\\Users\\gaikw\\Anaconda3\\lib\\site-packages\\ipykernel_launcher.py:5: UserWarning: Update your `Dense` call to the Keras 2 API: `Dense(activation=\"tanh\", units=128, kernel_initializer=\"uniform\")`\n",
      "  \"\"\"\n",
      "C:\\Users\\gaikw\\Anaconda3\\lib\\site-packages\\ipykernel_launcher.py:6: UserWarning: Update your `Dense` call to the Keras 2 API: `Dense(activation=\"tanh\", units=128, kernel_initializer=\"uniform\")`\n",
      "  \n",
      "C:\\Users\\gaikw\\Anaconda3\\lib\\site-packages\\ipykernel_launcher.py:7: UserWarning: Update your `Dense` call to the Keras 2 API: `Dense(activation=\"tanh\", units=512, kernel_initializer=\"uniform\")`\n",
      "  import sys\n",
      "C:\\Users\\gaikw\\Anaconda3\\lib\\site-packages\\ipykernel_launcher.py:8: UserWarning: Update your `Dense` call to the Keras 2 API: `Dense(activation=\"tanh\", units=512, kernel_initializer=\"uniform\")`\n",
      "  \n",
      "C:\\Users\\gaikw\\Anaconda3\\lib\\site-packages\\ipykernel_launcher.py:9: UserWarning: Update your `Dense` call to the Keras 2 API: `Dense(activation=\"sigmoid\", units=1, kernel_initializer=\"uniform\")`\n",
      "  if __name__ == '__main__':\n"
     ]
    }
   ],
   "source": [
    "clf=Sequential()\n",
    "clf.add(Dense(output_dim=32,init='uniform',activation='tanh',input_dim=10))\n",
    "clf.add(Dense(output_dim=64,init='uniform',activation='tanh'))\n",
    "clf.add(Dense(output_dim=64,init='uniform',activation='tanh'))\n",
    "clf.add(Dense(output_dim=128,init='uniform',activation='tanh'))\n",
    "clf.add(Dense(output_dim=128,init='uniform',activation='tanh'))\n",
    "clf.add(Dense(output_dim=512,init='uniform',activation='tanh'))\n",
    "clf.add(Dense(output_dim=512,init='uniform',activation='tanh'))\n",
    "clf.add(Dense(output_dim=1,init='uniform',activation='sigmoid'))\n",
    "\n",
    "clf.compile(optimizer='adam',loss='binary_crossentropy',metrics=['accuracy'])"
   ]
  },
  {
   "cell_type": "code",
   "execution_count": 16,
   "metadata": {},
   "outputs": [
    {
     "name": "stdout",
     "output_type": "stream",
     "text": [
      "_________________________________________________________________\n",
      "Layer (type)                 Output Shape              Param #   \n",
      "=================================================================\n",
      "dense_9 (Dense)              (None, 32)                352       \n",
      "_________________________________________________________________\n",
      "dense_10 (Dense)             (None, 64)                2112      \n",
      "_________________________________________________________________\n",
      "dense_11 (Dense)             (None, 64)                4160      \n",
      "_________________________________________________________________\n",
      "dense_12 (Dense)             (None, 128)               8320      \n",
      "_________________________________________________________________\n",
      "dense_13 (Dense)             (None, 128)               16512     \n",
      "_________________________________________________________________\n",
      "dense_14 (Dense)             (None, 512)               66048     \n",
      "_________________________________________________________________\n",
      "dense_15 (Dense)             (None, 512)               262656    \n",
      "_________________________________________________________________\n",
      "dense_16 (Dense)             (None, 1)                 513       \n",
      "=================================================================\n",
      "Total params: 360,673\n",
      "Trainable params: 360,673\n",
      "Non-trainable params: 0\n",
      "_________________________________________________________________\n"
     ]
    }
   ],
   "source": [
    "clf.summary()"
   ]
  },
  {
   "cell_type": "code",
   "execution_count": 17,
   "metadata": {},
   "outputs": [
    {
     "name": "stdout",
     "output_type": "stream",
     "text": [
      "WARNING:tensorflow:From C:\\Users\\gaikw\\Anaconda3\\lib\\site-packages\\tensorflow\\python\\ops\\math_ops.py:3066: to_int32 (from tensorflow.python.ops.math_ops) is deprecated and will be removed in a future version.\n",
      "Instructions for updating:\n",
      "Use tf.cast instead.\n",
      "Epoch 1/20\n",
      "20838/20838 [==============================] - 3s 161us/step - loss: 0.4472 - acc: 0.7956\n",
      "Epoch 2/20\n",
      "20838/20838 [==============================] - 2s 117us/step - loss: 0.4363 - acc: 0.7980\n",
      "Epoch 3/20\n",
      "20838/20838 [==============================] - 2s 114us/step - loss: 0.4344 - acc: 0.8002\n",
      "Epoch 4/20\n",
      "20838/20838 [==============================] - 2s 119us/step - loss: 0.4349 - acc: 0.7950\n",
      "Epoch 5/20\n",
      "20838/20838 [==============================] - 2s 112us/step - loss: 0.4331 - acc: 0.7979\n",
      "Epoch 6/20\n",
      "20838/20838 [==============================] - 2s 115us/step - loss: 0.4330 - acc: 0.7983\n",
      "Epoch 7/20\n",
      "20838/20838 [==============================] - 2s 112us/step - loss: 0.4335 - acc: 0.7988\n",
      "Epoch 8/20\n",
      "20838/20838 [==============================] - 2s 118us/step - loss: 0.4330 - acc: 0.7968\n",
      "Epoch 9/20\n",
      "20838/20838 [==============================] - 2s 114us/step - loss: 0.4345 - acc: 0.7991\n",
      "Epoch 10/20\n",
      "20838/20838 [==============================] - 3s 121us/step - loss: 0.4327 - acc: 0.7976\n",
      "Epoch 11/20\n",
      "20838/20838 [==============================] - 2s 117us/step - loss: 0.4340 - acc: 0.7967\n",
      "Epoch 12/20\n",
      "20838/20838 [==============================] - 2s 119us/step - loss: 0.4326 - acc: 0.7963\n",
      "Epoch 13/20\n",
      "20838/20838 [==============================] - 2s 118us/step - loss: 0.4317 - acc: 0.7974\n",
      "Epoch 14/20\n",
      "20838/20838 [==============================] - 2s 119us/step - loss: 0.4302 - acc: 0.7981\n",
      "Epoch 15/20\n",
      "20838/20838 [==============================] - 2s 118us/step - loss: 0.4303 - acc: 0.7999\n",
      "Epoch 16/20\n",
      "20838/20838 [==============================] - 2s 118us/step - loss: 0.4317 - acc: 0.7996\n",
      "Epoch 17/20\n",
      "20838/20838 [==============================] - 2s 118us/step - loss: 0.4286 - acc: 0.8013\n",
      "Epoch 18/20\n",
      "20838/20838 [==============================] - 3s 120us/step - loss: 0.4277 - acc: 0.8015\n",
      "Epoch 19/20\n",
      "20838/20838 [==============================] - 2s 117us/step - loss: 0.4264 - acc: 0.8007\n",
      "Epoch 20/20\n",
      "20838/20838 [==============================] - 3s 123us/step - loss: 0.4254 - acc: 0.8013\n"
     ]
    },
    {
     "data": {
      "text/plain": [
       "<keras.callbacks.History at 0x1f12e7de2e8>"
      ]
     },
     "execution_count": 17,
     "metadata": {},
     "output_type": "execute_result"
    }
   ],
   "source": [
    "clf.fit(X_train,yTrain,batch_size=32,epochs=20)"
   ]
  },
  {
   "cell_type": "code",
   "execution_count": null,
   "metadata": {},
   "outputs": [],
   "source": []
  }
 ],
 "metadata": {
  "kernelspec": {
   "display_name": "Python 3",
   "language": "python",
   "name": "python3"
  },
  "language_info": {
   "codemirror_mode": {
    "name": "ipython",
    "version": 3
   },
   "file_extension": ".py",
   "mimetype": "text/x-python",
   "name": "python",
   "nbconvert_exporter": "python",
   "pygments_lexer": "ipython3",
   "version": "3.7.3"
  }
 },
 "nbformat": 4,
 "nbformat_minor": 2
}
